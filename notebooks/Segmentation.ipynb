{
 "cells": [
  {
   "cell_type": "code",
   "execution_count": 1,
   "metadata": {},
   "outputs": [],
   "source": [
    "%load_ext autoreload\n",
    "%autoreload 2"
   ]
  },
  {
   "cell_type": "markdown",
   "metadata": {},
   "source": [
    "# Imports"
   ]
  },
  {
   "cell_type": "code",
   "execution_count": 1,
   "metadata": {},
   "outputs": [
    {
     "name": "stdout",
     "output_type": "stream",
     "text": [
      "/home/theo/Kaggle/seversal/src\n"
     ]
    }
   ],
   "source": [
    "cd ../src"
   ]
  },
  {
   "cell_type": "code",
   "execution_count": 2,
   "metadata": {
    "_cell_guid": "79c7e3d0-c299-4dcb-8224-4455121ee9b0",
    "_kg_hide-input": true,
    "_uuid": "d629ff2d2480ee46fbb7e2d37f6b5fab8052498a"
   },
   "outputs": [
    {
     "name": "stdout",
     "output_type": "stream",
     "text": [
      "Kept 1547 images out of 1801\n",
      "Number of defects of class 0 : 75\n",
      "Number of defects of class 1 : 3\n",
      "Number of defects of class 2 : 564\n",
      "Number of defects of class 3 : 93\n"
     ]
    }
   ],
   "source": [
    "from util import *\n",
    "from metric import *\n",
    "from params import *\n",
    "from imports import *\n",
    "from post_process import *\n",
    "from pseudo_labeling import *"
   ]
  },
  {
   "cell_type": "code",
   "execution_count": 3,
   "metadata": {},
   "outputs": [],
   "source": [
    "from data.masks import *\n",
    "from data.dataset import *\n",
    "from data.transforms import *\n",
    "from data.transforms import get_transforms as transfos"
   ]
  },
  {
   "cell_type": "code",
   "execution_count": 4,
   "metadata": {},
   "outputs": [],
   "source": [
    "from training.train import *\n",
    "from training.freezing import *\n",
    "from training.predicting import *"
   ]
  },
  {
   "cell_type": "code",
   "execution_count": 5,
   "metadata": {},
   "outputs": [],
   "source": [
    "from model_zoo.unet import *\n",
    "from model_zoo.fpn_enetb5 import *\n",
    "from model_zoo.unet_densenet169 import *\n",
    "from model_zoo.unet_seresnext50 import *"
   ]
  },
  {
   "cell_type": "code",
   "execution_count": 6,
   "metadata": {},
   "outputs": [
    {
     "name": "stdout",
     "output_type": "stream",
     "text": [
      "Number of available cores : 16\n"
     ]
    }
   ],
   "source": [
    "from tqdm import tqdm_notebook as tqdm\n",
    "\n",
    "sns.set_style('white')\n",
    "KERNEL_START_TIME = time.time()\n",
    "warnings.simplefilter(action='ignore', category=UserWarning)\n",
    "warnings.simplefilter(action='ignore', category=FutureWarning)\n",
    "# warnings.simplefilter(action='ignore', category=RuntimeWarning)\n",
    "print('Number of available cores :', multiprocessing.cpu_count())"
   ]
  },
  {
   "cell_type": "markdown",
   "metadata": {},
   "source": [
    "# Parameters"
   ]
  },
  {
   "cell_type": "code",
   "execution_count": 7,
   "metadata": {},
   "outputs": [],
   "source": [
    "seed = 2019\n",
    "seed_everything(seed)"
   ]
  },
  {
   "cell_type": "code",
   "execution_count": 8,
   "metadata": {},
   "outputs": [],
   "source": [
    "TRAIN_IMG_PATH = '../input/train_images/'\n",
    "TEST_IMG_PATH = '../input/test_images/'\n",
    "DATA_PATH = '../input/'"
   ]
  },
  {
   "cell_type": "code",
   "execution_count": 9,
   "metadata": {},
   "outputs": [],
   "source": [
    "IMG_SHAPE = (256, 1600)"
   ]
  },
  {
   "cell_type": "code",
   "execution_count": 10,
   "metadata": {},
   "outputs": [],
   "source": [
    "MEAN = np.array([0.485, 0.456, 0.406])\n",
    "STD = np.array([0.229, 0.224, 0.225])"
   ]
  },
  {
   "cell_type": "code",
   "execution_count": 11,
   "metadata": {},
   "outputs": [],
   "source": [
    "NUM_WORKERS = 4\n",
    "\n",
    "VAL_BS = 1  # seresnext\n",
    "# VAL_BS = 4  #resnet\n",
    "\n",
    "DEVICE = torch.device(\"cuda\") if torch.cuda.is_available() else torch.device(\"cpu\")"
   ]
  },
  {
   "cell_type": "markdown",
   "metadata": {},
   "source": [
    "# Data"
   ]
  },
  {
   "cell_type": "code",
   "execution_count": 12,
   "metadata": {},
   "outputs": [],
   "source": [
    "CP_PATH = f'../checkpoints/{date.today()}/'\n",
    "if not os.path.exists(CP_PATH):\n",
    "    os.mkdir(CP_PATH)"
   ]
  },
  {
   "cell_type": "code",
   "execution_count": 13,
   "metadata": {},
   "outputs": [
    {
     "name": "stdout",
     "output_type": "stream",
     "text": [
      "Number of training images :  12568\n"
     ]
    }
   ],
   "source": [
    "df_train = pd.read_csv(DATA_PATH + 'train.csv')\n",
    "df_train['EncodedPixels'].fillna('-1', inplace=True)\n",
    "\n",
    "print('Number of training images : ', len(df_train) // 4)"
   ]
  },
  {
   "cell_type": "code",
   "execution_count": 14,
   "metadata": {
    "_kg_hide-input": true
   },
   "outputs": [
    {
     "name": "stdout",
     "output_type": "stream",
     "text": [
      "Number of images with defaults:  6666\n"
     ]
    }
   ],
   "source": [
    "df_train['ImageId'] = df_train['ImageId_ClassId'].apply(lambda x: x.split('_')[0])\n",
    "df_train['ClassId'] = df_train['ImageId_ClassId'].apply(lambda x: x.split('_')[1])\n",
    "\n",
    "group_img = df_train[['ImageId', 'EncodedPixels']].groupby('ImageId').agg(list)\n",
    "rep_classes = group_img['EncodedPixels'].apply(pd.Series).rename(columns=lambda x : str(x))\n",
    "rep_classes['ClassNumber'] = group_img['EncodedPixels'].apply(lambda x: len([i for i in x if i != \"-1\"]))\n",
    "\n",
    "all_images = rep_classes.index.values\n",
    "hard_negatives = rep_classes[rep_classes['ClassNumber'] == 0].index.values\n",
    "positives = rep_classes[rep_classes['ClassNumber'] > 0].index.values\n",
    "\n",
    "print('Number of images with defaults: ', len(positives))"
   ]
  },
  {
   "cell_type": "code",
   "execution_count": 15,
   "metadata": {},
   "outputs": [],
   "source": [
    "mask_dic = rep_classes.drop('ClassNumber', axis=1).to_dict('index')"
   ]
  },
  {
   "cell_type": "markdown",
   "metadata": {},
   "source": [
    "## Pseudo Labels"
   ]
  },
  {
   "cell_type": "code",
   "execution_count": 16,
   "metadata": {},
   "outputs": [],
   "source": [
    "THRESHOLD_CONFIDENT_FAULT = 0.4\n",
    "THRESHOLD_CONFIDENT_NO_FAULT = 0.2\n",
    "\n",
    "IMG_TEST = pd.read_csv(DATA_PATH + 'sample_submission.csv')['ImageId_ClassId'].apply(lambda x: x[:-2]).values[::4]\n",
    "\n",
    "pl_probs = np.load('../output/all_probs_test.npy')\n",
    "PL_LABELS = pl_probs\n",
    "\n",
    "pl_df = pd.read_csv('../output/pl_9195.csv').fillna('')\n",
    "pl_df['EncodedPixels2'] = pd.read_csv('../output/pl_9193.csv').fillna('')['EncodedPixels']\n",
    "\n",
    "pl_df['probs'] = PL_LABELS.flatten()\n",
    "\n",
    "pl_df['faulty'] = pl_df['EncodedPixels'].apply(lambda x: int(len(x) > 0))\n",
    "pl_df['faulty2'] = pl_df['EncodedPixels2'].apply(lambda x: int(len(x) > 0))\n",
    "\n",
    "pl_df['kept_pos'] = np.min((pl_df['probs'] > THRESHOLD_CONFIDENT_FAULT, pl_df['faulty'], pl_df['faulty2']), axis=0)\n",
    "pl_df['kept_neg'] = np.min((pl_df['probs'] < THRESHOLD_CONFIDENT_NO_FAULT, 1 - pl_df['faulty'], 1 - pl_df['faulty2']), axis=0)\n",
    "pl_df['kept'] = pl_df['kept_pos'] + pl_df['kept_neg'] > 0\n",
    "\n",
    "kept_imgs = np.min(pl_df['kept'].values.reshape(-1, 4), axis=1)\n",
    "pl_df['kept_all'] = np.repeat(kept_imgs, 4)"
   ]
  },
  {
   "cell_type": "code",
   "execution_count": 17,
   "metadata": {},
   "outputs": [
    {
     "name": "stdout",
     "output_type": "stream",
     "text": [
      "Kept 1547 images out of 1801\n",
      "Number of defects of class 0 : 75\n",
      "Number of defects of class 1 : 3\n",
      "Number of defects of class 2 : 564\n",
      "Number of defects of class 3 : 93\n"
     ]
    }
   ],
   "source": [
    "kept_classes = pl_df[pl_df['kept_all']]['faulty']\n",
    "print(f'Kept {kept_classes.shape[0] / 4 :.0f} images out of {len(IMG_TEST)}')\n",
    "for i in range(4):\n",
    "    print(f'Number of defects of class {i} :', np.sum(kept_classes[i::4]))"
   ]
  },
  {
   "cell_type": "code",
   "execution_count": 18,
   "metadata": {
    "scrolled": true
   },
   "outputs": [],
   "source": [
    "PL_DF = pl_df[pl_df['kept_all']][['ImageId_ClassId', 'EncodedPixels', 'faulty']]"
   ]
  },
  {
   "cell_type": "code",
   "execution_count": 19,
   "metadata": {},
   "outputs": [],
   "source": [
    "PL_DF['ImageId'] = PL_DF['ImageId_ClassId'].apply(lambda x: x.split('_')[0])\n",
    "PL_DF['ClassId'] = PL_DF['ImageId_ClassId'].apply(lambda x: x.split('_')[1])\n",
    "\n",
    "group_img_pl = PL_DF[['ImageId', 'EncodedPixels']].groupby('ImageId').agg(list)\n",
    "rep_classes_pl = group_img_pl['EncodedPixels'].apply(pd.Series).rename(columns=lambda x : str(x))\n",
    "rep_classes_pl['ClassNumber'] = group_img_pl['EncodedPixels'].apply(lambda x: len([i for i in x if i != \"\"]))"
   ]
  },
  {
   "cell_type": "code",
   "execution_count": 20,
   "metadata": {},
   "outputs": [],
   "source": [
    "PL_IMAGES = rep_classes_pl.index.values\n",
    "MASK_DIC_PL = rep_classes_pl.drop('ClassNumber', axis=1).to_dict('index')"
   ]
  },
  {
   "cell_type": "code",
   "execution_count": 21,
   "metadata": {},
   "outputs": [
    {
     "data": {
      "text/html": [
       "\n",
       "    <div>\n",
       "        <style>\n",
       "            /* Turns off some styling */\n",
       "            progress {\n",
       "                /* gets rid of default border in Firefox and Opera. */\n",
       "                border: none;\n",
       "                /* Needs to be in here for Safari polyfill so background images work as expected. */\n",
       "                background-size: auto;\n",
       "            }\n",
       "            .progress-bar-interrupted, .progress-bar-interrupted::-webkit-progress-bar {\n",
       "                background: #F44336;\n",
       "            }\n",
       "        </style>\n",
       "      <progress value='12568' class='' max='12568', style='width:300px; height:20px; vertical-align: middle;'></progress>\n",
       "      100.00% [12568/12568 00:46<00:00]\n",
       "    </div>\n",
       "    "
      ],
      "text/plain": [
       "<IPython.core.display.HTML object>"
      ]
     },
     "metadata": {},
     "output_type": "display_data"
    }
   ],
   "source": [
    "classes, classes_max = get_classes(all_images, mask_dic)"
   ]
  },
  {
   "cell_type": "code",
   "execution_count": 22,
   "metadata": {},
   "outputs": [],
   "source": [
    "dataset = SteelTrainDataset(mask_dic, all_images, classes, transfos(crop_size=512), positives)"
   ]
  },
  {
   "cell_type": "code",
   "execution_count": 23,
   "metadata": {},
   "outputs": [
    {
     "data": {
      "text/plain": [
       "<Figure size 1080x360 with 0 Axes>"
      ]
     },
     "metadata": {},
     "output_type": "display_data"
    }
   ],
   "source": [
    "try:\n",
    "    for i in np.random.choice(range(len(dataset)), 10):\n",
    "        img, masks, c = dataset[i]\n",
    "        plot_masks(img[0], masks)\n",
    "except:\n",
    "    pass"
   ]
  },
  {
   "cell_type": "markdown",
   "metadata": {},
   "source": [
    "## Training"
   ]
  },
  {
   "cell_type": "code",
   "execution_count": 24,
   "metadata": {},
   "outputs": [],
   "source": [
    "def k_fold_training(create_model, backbone, images, classes, classes_max, mask_dic, transforms_dic,\n",
    "                    kept_for_training=([],), k=5, selected_fold=0, use_aux_clf=False,\n",
    "                    batch_sizes=(32,), epochs=(5,), seed=2019, lr=(1e-3,), min_lrs=(1e-5,),\n",
    "                    verbose=1, save=True, cp=False, warmup_props=(0.1,), model_name=\"model\", pretrained_path=''):\n",
    "    splits = list(StratifiedKFold(n_splits=k, shuffle=True, random_state=seed).split(images, classes_max))\n",
    "    train_idx, val_idx = splits[selected_fold]\n",
    "    i = selected_fold\n",
    "\n",
    "    print(f\"-------------   Fold {i + 1}  -------------\")\n",
    "    seed_everything(seed + i)\n",
    "\n",
    "    if backbone in SETTINGS.keys():\n",
    "        model = create_model(SETTINGS[backbone], num_classes=4, center_block=\"aspp\", aux_clf=use_aux_clf)\n",
    "    else:\n",
    "        model = create_model(num_classes=4, center_block=\"aspp\", aux_clf=use_aux_clf)\n",
    "\n",
    "    if len(pretrained_path):\n",
    "        load_model_weights(model, pretrained_path)\n",
    "\n",
    "    val_dataset = SteelValDataset(mask_dic, images[val_idx], classes[val_idx], transforms_dic[\"val\"])\n",
    "\n",
    "    freeze_encoder(model)\n",
    "    n_parameters = count_parameters(model)\n",
    "\n",
    "    print(f'\\n - Training with 256x256 crops - Frozen encoder: {n_parameters} trainable parameters\\n')\n",
    "\n",
    "    train_dataset = SteelTrainDataset(mask_dic, images[train_idx], classes[train_idx], transforms_dic[\"train\"][0],\n",
    "                                      kept_imgs=kept_for_training[0])\n",
    "\n",
    "    fit_seg(model, train_dataset, val_dataset, epochs=epochs[0], batch_size=batch_sizes[0],\n",
    "            lr=lr[0], min_lr=min_lrs[0], schedule='cosine', use_aux_clf=use_aux_clf,\n",
    "            warmup_prop=warmup_props[0], verbose=verbose)\n",
    "\n",
    "    if cp:\n",
    "        load_model_weights(model, f\"{model_name}_{i + 1}_0.pt\", verbose=1)\n",
    "    elif save:\n",
    "        save_model_weights(model, f\"{model_name}_{i + 1}_0.pt\", verbose=1)\n",
    "\n",
    "    unfreeze_encoder(model)\n",
    "    n_parameters = count_parameters(model)\n",
    "\n",
    "    print(f'\\n - Training with 256x256 crops - {n_parameters} trainable parameters\\n')\n",
    "\n",
    "    train_dataset = SteelTrainDataset(mask_dic, images[train_idx], classes[train_idx], transforms_dic[\"train\"][1],\n",
    "                                      kept_imgs=kept_for_training[1])\n",
    "\n",
    "    fit_seg(model, train_dataset, val_dataset, epochs=epochs[1], batch_size=batch_sizes[1],\n",
    "            lr=lr[1], min_lr=min_lrs[1], schedule='cosine', use_aux_clf=use_aux_clf,\n",
    "            warmup_prop=warmup_props[1], verbose=verbose)\n",
    "\n",
    "    if cp:\n",
    "        load_model_weights(model, f\"{model_name}_{i + 1}_1.pt\", verbose=1)\n",
    "    elif save:\n",
    "        save_model_weights(model, f\"{model_name}_{i + 1}_1.pt\", verbose=1)\n",
    "\n",
    "    print('\\n - Training with 512x256 crops \\n')\n",
    "\n",
    "    train_dataset = SteelTrainDatasetPL(mask_dic, images[train_idx], classes[train_idx], transforms_dic[\"train\"][2],\n",
    "                                        kept_imgs=kept_for_training[2])\n",
    "\n",
    "    fit_seg(model, train_dataset, val_dataset, epochs=epochs[2], batch_size=batch_sizes[2],\n",
    "            lr=lr[2], min_lr=min_lrs[2], schedule='cosine', use_aux_clf=use_aux_clf,\n",
    "            warmup_prop=warmup_props[2], verbose=verbose)\n",
    "\n",
    "    if cp:\n",
    "        load_model_weights(model, f\"{model_name}_{i + 1}_2.pt\", verbose=1)\n",
    "    elif save:\n",
    "        save_model_weights(model, f\"{model_name}_{i + 1}_2.pt\", verbose=1)\n",
    "\n",
    "    print('\\n - Training with 1024x256 crops \\n')\n",
    "\n",
    "    train_dataset = SteelTrainDataset(mask_dic, images[train_idx], classes[train_idx], transforms_dic[\"train\"][3],\n",
    "                                      kept_imgs=kept_for_training[3])\n",
    "\n",
    "    fit_seg(model, train_dataset, val_dataset, epochs=epochs[3], batch_size=batch_sizes[3],\n",
    "            lr=lr[3], min_lr=min_lrs[3], schedule='cosine', use_aux_clf=use_aux_clf,\n",
    "            warmup_prop=warmup_props[3], verbose=verbose)\n",
    "\n",
    "    if cp:\n",
    "        load_model_weights(model, f\"{model_name}_{i + 1}_3.pt\", verbose=1)\n",
    "    elif save:\n",
    "        save_model_weights(model, f\"{model_name}_{i + 1}_3.pt\", verbose=1)\n",
    "\n",
    "    print('\\n - Training with full images \\n')\n",
    "\n",
    "    train_dataset = SteelTrainDataset(mask_dic, images[train_idx], classes[train_idx], transforms_dic[\"train\"][4],\n",
    "                                      kept_imgs=kept_for_training[4])\n",
    "\n",
    "    fit_seg(model, train_dataset, val_dataset, epochs=epochs[4], batch_size=batch_sizes[4],\n",
    "            lr=lr[4], min_lr=min_lrs[4], schedule='cosine', use_aux_clf=use_aux_clf,\n",
    "            warmup_prop=warmup_props[4], verbose=verbose)\n",
    "\n",
    "    if cp:\n",
    "        load_model_weights(model, f\"{model_name}_{i + 1}_4.pt\", verbose=1)\n",
    "    elif save:\n",
    "        save_model_weights(model, f\"{model_name}_{i + 1}_4.pt\", verbose=1)\n",
    "\n",
    "    print('\\n - Training with 1024x256 crops and pseudo-labels\\n')\n",
    "\n",
    "    train_dataset = SteelTrainDatasetPL(mask_dic, images[train_idx], classes[train_idx], transforms_dic[\"train\"][5],\n",
    "                                        kept_imgs=kept_for_training[5])\n",
    "\n",
    "    fit_seg(model, train_dataset, val_dataset, epochs=epochs[5], batch_size=batch_sizes[5],\n",
    "            lr=lr[5], min_lr=min_lrs[5], schedule='cosine', use_aux_clf=use_aux_clf,\n",
    "            warmup_prop=warmup_props[5], verbose=verbose)\n",
    "\n",
    "    if cp:\n",
    "        load_model_weights(model, f\"{model_name}_{i + 1}_5.pt\", verbose=1)\n",
    "    elif save:\n",
    "        save_model_weights(model, f\"{model_name}_{i + 1}_5.pt\", verbose=1)\n"
   ]
  },
  {
   "cell_type": "markdown",
   "metadata": {},
   "source": [
    "# Training"
   ]
  },
  {
   "cell_type": "markdown",
   "metadata": {},
   "source": [
    "## Parameters"
   ]
  },
  {
   "cell_type": "code",
   "execution_count": 25,
   "metadata": {},
   "outputs": [],
   "source": [
    "backbone = 'se_resnext50_32x4d' #'resnet34'\n",
    "build_model = SegmentationUnet\n",
    "model_name = \"unet_\" + backbone "
   ]
  },
  {
   "cell_type": "code",
   "execution_count": 26,
   "metadata": {},
   "outputs": [
    {
     "name": "stdout",
     "output_type": "stream",
     "text": [
      "Number of images kept for training at step 1 : 12568\n",
      "Number of images kept for training at step 2 : 12568\n",
      "Number of images kept for training at step 3 : 12568\n",
      "Number of images kept for training at step 4 : 12568\n",
      "Number of images kept for training at step 5 : 12568\n",
      "Number of images kept for training at step 6 : 12568\n",
      "Number of images kept for training at step 7 : 12568\n"
     ]
    }
   ],
   "source": [
    "kept_images = [[]]*7\n",
    "\n",
    "for i, kept_imgs in enumerate(kept_images):\n",
    "    print(f\"Number of images kept for training at step {i+1} :\", len(kept_imgs) if len(kept_imgs) else len(all_images))"
   ]
  },
  {
   "cell_type": "code",
   "execution_count": 27,
   "metadata": {},
   "outputs": [],
   "source": [
    "k = 5\n",
    "selected_fold = 0"
   ]
  },
  {
   "cell_type": "code",
   "execution_count": 28,
   "metadata": {},
   "outputs": [],
   "source": [
    "transforms_dic = {\"train\": [transfos(crop_size=256), \n",
    "                            transfos(crop_size=256),\n",
    "                            transfos(crop_size=512), \n",
    "                            transfos(crop_size=1024),\n",
    "                            transfos(crop_size=0),\n",
    "                            transfos(crop_size=1024),\n",
    "                            transfos(crop_size=0)],\n",
    "                  \"val\": transfos(test=True)}\n",
    "\n",
    "# batch_sizes = [32, 32, 16, 8, 4] # resnet\n",
    "batch_sizes = [16, 16, 8, 4, 2, 4]\n",
    "epochs = [5, 30, 30, 20, 15, 20]\n",
    "epochs = [1] * 7\n",
    "\n",
    "warmup_props = [0, 0.1, 0.1, 0.1, 0.1, 0.2]\n",
    "warmup_props = [0] * 7\n",
    "lrs = [1e-3, 1e-3, 5e-4, 5e-5, 1e-5, 5e-5]\n",
    "\n",
    "min_lrs = [1e-3, 1e-4, 5e-6, 1e-6, 1e-6, 1e-6, 1e-6] # serenext"
   ]
  },
  {
   "cell_type": "code",
   "execution_count": 29,
   "metadata": {},
   "outputs": [],
   "source": [
    "tta = True\n",
    "use_aux_clf = True"
   ]
  },
  {
   "cell_type": "markdown",
   "metadata": {},
   "source": [
    "## Train"
   ]
  },
  {
   "cell_type": "code",
   "execution_count": 30,
   "metadata": {
    "scrolled": true
   },
   "outputs": [
    {
     "name": "stdout",
     "output_type": "stream",
     "text": [
      "-------------   Fold 1  -------------\n",
      "\n",
      " - Training with 256x256 crops - Frozen encoder: 68178409 trainable parameters\n",
      "\n",
      "Epoch 1/1     lr=1.0e-03     t=359s     loss=2.4777     dice=0.85944     val_loss=1.1329     \n",
      "\n",
      " -> Saving weights to ../checkpoints/unet_se_resnext50_32x4d_1_0.pt\n",
      "\n",
      "\n",
      " - Training with 256x256 crops - 93621081 trainable parameters\n",
      "\n",
      "Epoch 1/1     lr=1.0e-04     t=409s     loss=0.4815     dice=0.87876     val_loss=0.7910     \n",
      "\n",
      " -> Saving weights to ../checkpoints/unet_se_resnext50_32x4d_1_1.pt\n",
      "\n",
      "\n",
      " - Training with 512x256 crops \n",
      "\n",
      "Epoch 1/1     lr=5.0e-06     t=642s     loss=0.4997     dice=0.89123     val_loss=0.6569     \n",
      "\n",
      " -> Saving weights to ../checkpoints/unet_se_resnext50_32x4d_1_2.pt\n",
      "\n",
      "\n",
      " - Training with 1024x256 crops \n",
      "\n"
     ]
    },
    {
     "ename": "RuntimeError",
     "evalue": "CUDA out of memory. Tried to allocate 2.00 MiB (GPU 0; 10.76 GiB total capacity; 6.26 GiB already allocated; 3.38 MiB free; 448.25 MiB cached)",
     "output_type": "error",
     "traceback": [
      "\u001b[0;31m---------------------------------------------------------------------------\u001b[0m",
      "\u001b[0;31mRuntimeError\u001b[0m                              Traceback (most recent call last)",
      "\u001b[0;32m<ipython-input-30-fdcfa416cf75>\u001b[0m in \u001b[0;36m<module>\u001b[0;34m\u001b[0m\n\u001b[1;32m      4\u001b[0m                 \u001b[0mkept_images\u001b[0m\u001b[0;34m,\u001b[0m \u001b[0mk\u001b[0m\u001b[0;34m=\u001b[0m\u001b[0mk\u001b[0m\u001b[0;34m,\u001b[0m \u001b[0mselected_fold\u001b[0m\u001b[0;34m=\u001b[0m\u001b[0mselected_fold\u001b[0m\u001b[0;34m,\u001b[0m \u001b[0muse_aux_clf\u001b[0m\u001b[0;34m=\u001b[0m\u001b[0muse_aux_clf\u001b[0m\u001b[0;34m,\u001b[0m\u001b[0;34m\u001b[0m\u001b[0;34m\u001b[0m\u001b[0m\n\u001b[1;32m      5\u001b[0m                 \u001b[0mbatch_sizes\u001b[0m\u001b[0;34m=\u001b[0m\u001b[0mbatch_sizes\u001b[0m\u001b[0;34m,\u001b[0m \u001b[0mepochs\u001b[0m\u001b[0;34m=\u001b[0m\u001b[0mepochs\u001b[0m\u001b[0;34m,\u001b[0m \u001b[0mwarmup_props\u001b[0m\u001b[0;34m=\u001b[0m\u001b[0mwarmup_props\u001b[0m\u001b[0;34m,\u001b[0m \u001b[0mlr\u001b[0m\u001b[0;34m=\u001b[0m\u001b[0mlrs\u001b[0m\u001b[0;34m,\u001b[0m \u001b[0mmin_lrs\u001b[0m\u001b[0;34m=\u001b[0m\u001b[0mmin_lrs\u001b[0m\u001b[0;34m,\u001b[0m\u001b[0;34m\u001b[0m\u001b[0;34m\u001b[0m\u001b[0m\n\u001b[0;32m----> 6\u001b[0;31m                 verbose=1, save=True, cp=False, model_name=model_name, seed=seed)\n\u001b[0m",
      "\u001b[0;32m<ipython-input-24-a02e052205db>\u001b[0m in \u001b[0;36mk_fold_training\u001b[0;34m(create_model, backbone, images, classes, classes_max, mask_dic, transforms_dic, kept_for_training, k, selected_fold, use_aux_clf, batch_sizes, epochs, seed, lr, min_lrs, verbose, save, cp, warmup_props, model_name, pretrained_path)\u001b[0m\n\u001b[1;32m     75\u001b[0m     fit_seg(model, train_dataset, val_dataset, epochs=epochs[3], batch_size=batch_sizes[3],\n\u001b[1;32m     76\u001b[0m             \u001b[0mlr\u001b[0m\u001b[0;34m=\u001b[0m\u001b[0mlr\u001b[0m\u001b[0;34m[\u001b[0m\u001b[0;36m3\u001b[0m\u001b[0;34m]\u001b[0m\u001b[0;34m,\u001b[0m \u001b[0mmin_lr\u001b[0m\u001b[0;34m=\u001b[0m\u001b[0mmin_lrs\u001b[0m\u001b[0;34m[\u001b[0m\u001b[0;36m3\u001b[0m\u001b[0;34m]\u001b[0m\u001b[0;34m,\u001b[0m \u001b[0mschedule\u001b[0m\u001b[0;34m=\u001b[0m\u001b[0;34m'cosine'\u001b[0m\u001b[0;34m,\u001b[0m \u001b[0muse_aux_clf\u001b[0m\u001b[0;34m=\u001b[0m\u001b[0muse_aux_clf\u001b[0m\u001b[0;34m,\u001b[0m\u001b[0;34m\u001b[0m\u001b[0;34m\u001b[0m\u001b[0m\n\u001b[0;32m---> 77\u001b[0;31m             warmup_prop=warmup_props[3], verbose=verbose)\n\u001b[0m\u001b[1;32m     78\u001b[0m \u001b[0;34m\u001b[0m\u001b[0m\n\u001b[1;32m     79\u001b[0m     \u001b[0;32mif\u001b[0m \u001b[0mcp\u001b[0m\u001b[0;34m:\u001b[0m\u001b[0;34m\u001b[0m\u001b[0;34m\u001b[0m\u001b[0m\n",
      "\u001b[0;32m~/Kaggle/seversal/src/training/train.py\u001b[0m in \u001b[0;36mfit_seg\u001b[0;34m(model, train_dataset, val_dataset, epochs, batch_size, use_aux_clf, warmup_prop, lr, schedule, min_lr, verbose, verbose_eval)\u001b[0m\n\u001b[1;32m     58\u001b[0m             \u001b[0my_pred\u001b[0m\u001b[0;34m,\u001b[0m \u001b[0mfault_pred\u001b[0m \u001b[0;34m=\u001b[0m \u001b[0mmodel\u001b[0m\u001b[0;34m(\u001b[0m\u001b[0mx\u001b[0m\u001b[0;34m.\u001b[0m\u001b[0mcuda\u001b[0m\u001b[0;34m(\u001b[0m\u001b[0;34m)\u001b[0m\u001b[0;34m)\u001b[0m\u001b[0;34m\u001b[0m\u001b[0;34m\u001b[0m\u001b[0m\n\u001b[1;32m     59\u001b[0m             \u001b[0;32mif\u001b[0m \u001b[0muse_aux_clf\u001b[0m\u001b[0;34m:\u001b[0m\u001b[0;34m\u001b[0m\u001b[0;34m\u001b[0m\u001b[0m\n\u001b[0;32m---> 60\u001b[0;31m                 loss = loss_seg(y_pred, y_batch.cuda()) + loss_clf(fault_pred,\n\u001b[0m\u001b[1;32m     61\u001b[0m                                                                    fault_batch.cuda().float()) * loss_clf_w\n\u001b[1;32m     62\u001b[0m             \u001b[0;32melse\u001b[0m\u001b[0;34m:\u001b[0m\u001b[0;34m\u001b[0m\u001b[0;34m\u001b[0m\u001b[0m\n",
      "\u001b[0;32m~/Kaggle/seversal/src/training/losses.py\u001b[0m in \u001b[0;36mlov_loss\u001b[0;34m(x, y)\u001b[0m\n\u001b[1;32m    162\u001b[0m             \u001b[0mL\u001b[0m\u001b[0;34m(\u001b[0m\u001b[0mx\u001b[0m\u001b[0;34m[\u001b[0m\u001b[0;34m:\u001b[0m\u001b[0;34m,\u001b[0m \u001b[0;36m1\u001b[0m\u001b[0;34m]\u001b[0m\u001b[0;34m.\u001b[0m\u001b[0munsqueeze\u001b[0m\u001b[0;34m(\u001b[0m\u001b[0;36m1\u001b[0m\u001b[0;34m)\u001b[0m\u001b[0;34m,\u001b[0m \u001b[0my\u001b[0m \u001b[0;34m==\u001b[0m \u001b[0;36m1\u001b[0m\u001b[0;34m)\u001b[0m \u001b[0;34m+\u001b[0m\u001b[0;34m\u001b[0m\u001b[0;34m\u001b[0m\u001b[0m\n\u001b[1;32m    163\u001b[0m             \u001b[0mL\u001b[0m\u001b[0;34m(\u001b[0m\u001b[0mx\u001b[0m\u001b[0;34m[\u001b[0m\u001b[0;34m:\u001b[0m\u001b[0;34m,\u001b[0m \u001b[0;36m2\u001b[0m\u001b[0;34m]\u001b[0m\u001b[0;34m.\u001b[0m\u001b[0munsqueeze\u001b[0m\u001b[0;34m(\u001b[0m\u001b[0;36m1\u001b[0m\u001b[0;34m)\u001b[0m\u001b[0;34m,\u001b[0m \u001b[0my\u001b[0m \u001b[0;34m==\u001b[0m \u001b[0;36m2\u001b[0m\u001b[0;34m)\u001b[0m \u001b[0;34m+\u001b[0m\u001b[0;34m\u001b[0m\u001b[0;34m\u001b[0m\u001b[0m\n\u001b[0;32m--> 164\u001b[0;31m             \u001b[0mL\u001b[0m\u001b[0;34m(\u001b[0m\u001b[0mx\u001b[0m\u001b[0;34m[\u001b[0m\u001b[0;34m:\u001b[0m\u001b[0;34m,\u001b[0m \u001b[0;36m3\u001b[0m\u001b[0;34m]\u001b[0m\u001b[0;34m.\u001b[0m\u001b[0munsqueeze\u001b[0m\u001b[0;34m(\u001b[0m\u001b[0;36m1\u001b[0m\u001b[0;34m)\u001b[0m\u001b[0;34m,\u001b[0m \u001b[0my\u001b[0m \u001b[0;34m==\u001b[0m \u001b[0;36m3\u001b[0m\u001b[0;34m)\u001b[0m \u001b[0;34m+\u001b[0m\u001b[0;34m\u001b[0m\u001b[0;34m\u001b[0m\u001b[0m\n\u001b[0m\u001b[1;32m    165\u001b[0m             L(x[:, 4].unsqueeze(1), y == 4)) / 5.0\n\u001b[1;32m    166\u001b[0m \u001b[0;34m\u001b[0m\u001b[0m\n",
      "\u001b[0;32m~/Kaggle/seversal/src/training/losses.py\u001b[0m in \u001b[0;36msymmetric_lovasz\u001b[0;34m(outputs, targets)\u001b[0m\n\u001b[1;32m    154\u001b[0m     \u001b[0mtargets\u001b[0m \u001b[0;34m=\u001b[0m \u001b[0mtargets\u001b[0m\u001b[0;34m.\u001b[0m\u001b[0mfloat\u001b[0m\u001b[0;34m(\u001b[0m\u001b[0;34m)\u001b[0m\u001b[0;34m\u001b[0m\u001b[0;34m\u001b[0m\u001b[0m\n\u001b[1;32m    155\u001b[0m     return (lovasz_hinge(outputs, targets) +\n\u001b[0;32m--> 156\u001b[0;31m             lovasz_hinge(-outputs, 1 - targets)) / 2\n\u001b[0m\u001b[1;32m    157\u001b[0m \u001b[0;34m\u001b[0m\u001b[0m\n\u001b[1;32m    158\u001b[0m \u001b[0;34m\u001b[0m\u001b[0m\n",
      "\u001b[0;32m~/Kaggle/seversal/src/training/losses.py\u001b[0m in \u001b[0;36mlovasz_hinge\u001b[0;34m(logits, labels, per_image, ignore)\u001b[0m\n\u001b[1;32m    140\u001b[0m             lab in zip(\n\u001b[1;32m    141\u001b[0m                 \u001b[0mlogits\u001b[0m\u001b[0;34m,\u001b[0m\u001b[0;34m\u001b[0m\u001b[0;34m\u001b[0m\u001b[0m\n\u001b[0;32m--> 142\u001b[0;31m                 labels))\n\u001b[0m\u001b[1;32m    143\u001b[0m     \u001b[0;32melse\u001b[0m\u001b[0;34m:\u001b[0m\u001b[0;34m\u001b[0m\u001b[0;34m\u001b[0m\u001b[0m\n\u001b[1;32m    144\u001b[0m         loss = lovasz_hinge_flat(\n",
      "\u001b[0;32m~/Kaggle/seversal/src/training/losses.py\u001b[0m in \u001b[0;36mmean\u001b[0;34m(l, ignore_nan, empty)\u001b[0m\n\u001b[1;32m     64\u001b[0m             \u001b[0;32mraise\u001b[0m \u001b[0mValueError\u001b[0m\u001b[0;34m(\u001b[0m\u001b[0;34m'Empty mean'\u001b[0m\u001b[0;34m)\u001b[0m\u001b[0;34m\u001b[0m\u001b[0;34m\u001b[0m\u001b[0m\n\u001b[1;32m     65\u001b[0m         \u001b[0;32mreturn\u001b[0m \u001b[0mempty\u001b[0m\u001b[0;34m\u001b[0m\u001b[0;34m\u001b[0m\u001b[0m\n\u001b[0;32m---> 66\u001b[0;31m     \u001b[0;32mfor\u001b[0m \u001b[0mn\u001b[0m\u001b[0;34m,\u001b[0m \u001b[0mv\u001b[0m \u001b[0;32min\u001b[0m \u001b[0menumerate\u001b[0m\u001b[0;34m(\u001b[0m\u001b[0ml\u001b[0m\u001b[0;34m,\u001b[0m \u001b[0;36m2\u001b[0m\u001b[0;34m)\u001b[0m\u001b[0;34m:\u001b[0m\u001b[0;34m\u001b[0m\u001b[0;34m\u001b[0m\u001b[0m\n\u001b[0m\u001b[1;32m     67\u001b[0m         \u001b[0macc\u001b[0m \u001b[0;34m+=\u001b[0m \u001b[0mv\u001b[0m\u001b[0;34m\u001b[0m\u001b[0;34m\u001b[0m\u001b[0m\n\u001b[1;32m     68\u001b[0m     \u001b[0;32mif\u001b[0m \u001b[0mn\u001b[0m \u001b[0;34m==\u001b[0m \u001b[0;36m1\u001b[0m\u001b[0;34m:\u001b[0m\u001b[0;34m\u001b[0m\u001b[0;34m\u001b[0m\u001b[0m\n",
      "\u001b[0;32m~/Kaggle/seversal/src/training/losses.py\u001b[0m in \u001b[0;36m<genexpr>\u001b[0;34m(.0)\u001b[0m\n\u001b[1;32m    138\u001b[0m                     \u001b[0mlab\u001b[0m\u001b[0;34m.\u001b[0m\u001b[0munsqueeze\u001b[0m\u001b[0;34m(\u001b[0m\u001b[0;36m0\u001b[0m\u001b[0;34m)\u001b[0m\u001b[0;34m,\u001b[0m\u001b[0;34m\u001b[0m\u001b[0;34m\u001b[0m\u001b[0m\n\u001b[1;32m    139\u001b[0m                     ignore)) for log,\n\u001b[0;32m--> 140\u001b[0;31m             lab in zip(\n\u001b[0m\u001b[1;32m    141\u001b[0m                 \u001b[0mlogits\u001b[0m\u001b[0;34m,\u001b[0m\u001b[0;34m\u001b[0m\u001b[0;34m\u001b[0m\u001b[0m\n\u001b[1;32m    142\u001b[0m                 labels))\n",
      "\u001b[0;32m~/Kaggle/seversal/src/training/losses.py\u001b[0m in \u001b[0;36mlovasz_hinge_flat\u001b[0;34m(logits, labels)\u001b[0m\n\u001b[1;32m    116\u001b[0m     \u001b[0mperm\u001b[0m \u001b[0;34m=\u001b[0m \u001b[0mperm\u001b[0m\u001b[0;34m.\u001b[0m\u001b[0mdata\u001b[0m\u001b[0;34m\u001b[0m\u001b[0;34m\u001b[0m\u001b[0m\n\u001b[1;32m    117\u001b[0m     \u001b[0mgt_sorted\u001b[0m \u001b[0;34m=\u001b[0m \u001b[0mlabels\u001b[0m\u001b[0;34m[\u001b[0m\u001b[0mperm\u001b[0m\u001b[0;34m]\u001b[0m\u001b[0;34m\u001b[0m\u001b[0;34m\u001b[0m\u001b[0m\n\u001b[0;32m--> 118\u001b[0;31m     \u001b[0mgrad\u001b[0m \u001b[0;34m=\u001b[0m \u001b[0mlovasz_grad\u001b[0m\u001b[0;34m(\u001b[0m\u001b[0mgt_sorted\u001b[0m\u001b[0;34m)\u001b[0m\u001b[0;34m\u001b[0m\u001b[0;34m\u001b[0m\u001b[0m\n\u001b[0m\u001b[1;32m    119\u001b[0m     \u001b[0;31m# loss = torch.dot(F.relu(errors_sorted), Variable(grad))\u001b[0m\u001b[0;34m\u001b[0m\u001b[0;34m\u001b[0m\u001b[0;34m\u001b[0m\u001b[0m\n\u001b[1;32m    120\u001b[0m     \u001b[0mloss\u001b[0m \u001b[0;34m=\u001b[0m \u001b[0mtorch\u001b[0m\u001b[0;34m.\u001b[0m\u001b[0mdot\u001b[0m\u001b[0;34m(\u001b[0m\u001b[0mF\u001b[0m\u001b[0;34m.\u001b[0m\u001b[0melu\u001b[0m\u001b[0;34m(\u001b[0m\u001b[0merrors_sorted\u001b[0m\u001b[0;34m)\u001b[0m \u001b[0;34m+\u001b[0m \u001b[0;36m1\u001b[0m\u001b[0;34m,\u001b[0m \u001b[0mVariable\u001b[0m\u001b[0;34m(\u001b[0m\u001b[0mgrad\u001b[0m\u001b[0;34m)\u001b[0m\u001b[0;34m)\u001b[0m\u001b[0;34m\u001b[0m\u001b[0;34m\u001b[0m\u001b[0m\n",
      "\u001b[0;32m~/Kaggle/seversal/src/training/losses.py\u001b[0m in \u001b[0;36mlovasz_grad\u001b[0;34m(gt_sorted)\u001b[0m\n\u001b[1;32m     93\u001b[0m     \u001b[0mp\u001b[0m \u001b[0;34m=\u001b[0m \u001b[0mlen\u001b[0m\u001b[0;34m(\u001b[0m\u001b[0mgt_sorted\u001b[0m\u001b[0;34m)\u001b[0m\u001b[0;34m\u001b[0m\u001b[0;34m\u001b[0m\u001b[0m\n\u001b[1;32m     94\u001b[0m     \u001b[0mgts\u001b[0m \u001b[0;34m=\u001b[0m \u001b[0mgt_sorted\u001b[0m\u001b[0;34m.\u001b[0m\u001b[0msum\u001b[0m\u001b[0;34m(\u001b[0m\u001b[0;34m)\u001b[0m\u001b[0;34m\u001b[0m\u001b[0;34m\u001b[0m\u001b[0m\n\u001b[0;32m---> 95\u001b[0;31m     \u001b[0mintersection\u001b[0m \u001b[0;34m=\u001b[0m \u001b[0mgts\u001b[0m \u001b[0;34m-\u001b[0m \u001b[0mgt_sorted\u001b[0m\u001b[0;34m.\u001b[0m\u001b[0mfloat\u001b[0m\u001b[0;34m(\u001b[0m\u001b[0;34m)\u001b[0m\u001b[0;34m.\u001b[0m\u001b[0mcumsum\u001b[0m\u001b[0;34m(\u001b[0m\u001b[0;36m0\u001b[0m\u001b[0;34m)\u001b[0m\u001b[0;34m\u001b[0m\u001b[0;34m\u001b[0m\u001b[0m\n\u001b[0m\u001b[1;32m     96\u001b[0m     \u001b[0munion\u001b[0m \u001b[0;34m=\u001b[0m \u001b[0mgts\u001b[0m \u001b[0;34m+\u001b[0m \u001b[0;34m(\u001b[0m\u001b[0;36m1\u001b[0m \u001b[0;34m-\u001b[0m \u001b[0mgt_sorted\u001b[0m\u001b[0;34m)\u001b[0m\u001b[0;34m.\u001b[0m\u001b[0mfloat\u001b[0m\u001b[0;34m(\u001b[0m\u001b[0;34m)\u001b[0m\u001b[0;34m.\u001b[0m\u001b[0mcumsum\u001b[0m\u001b[0;34m(\u001b[0m\u001b[0;36m0\u001b[0m\u001b[0;34m)\u001b[0m\u001b[0;34m\u001b[0m\u001b[0;34m\u001b[0m\u001b[0m\n\u001b[1;32m     97\u001b[0m     \u001b[0mjaccard\u001b[0m \u001b[0;34m=\u001b[0m \u001b[0;36m1.\u001b[0m \u001b[0;34m-\u001b[0m \u001b[0mintersection\u001b[0m \u001b[0;34m/\u001b[0m \u001b[0munion\u001b[0m\u001b[0;34m\u001b[0m\u001b[0;34m\u001b[0m\u001b[0m\n",
      "\u001b[0;31mRuntimeError\u001b[0m: CUDA out of memory. Tried to allocate 2.00 MiB (GPU 0; 10.76 GiB total capacity; 6.26 GiB already allocated; 3.38 MiB free; 448.25 MiB cached)"
     ]
    }
   ],
   "source": [
    "assert torch.cuda.is_available(), 'Training on GPU is mandatory'\n",
    "\n",
    "k_fold_training(build_model, backbone, all_images, classes, classes_max, mask_dic, transforms_dic,\n",
    "                kept_images, k=k, selected_fold=selected_fold, use_aux_clf=use_aux_clf,\n",
    "                batch_sizes=batch_sizes, epochs=epochs, warmup_props=warmup_props, lr=lrs, min_lrs=min_lrs,\n",
    "                verbose=1, save=True, cp=False, model_name=model_name, seed=seed)"
   ]
  }
 ],
 "metadata": {
  "kernelspec": {
   "display_name": "Python 3",
   "language": "python",
   "name": "python3"
  },
  "language_info": {
   "codemirror_mode": {
    "name": "ipython",
    "version": 3
   },
   "file_extension": ".py",
   "mimetype": "text/x-python",
   "name": "python",
   "nbconvert_exporter": "python",
   "pygments_lexer": "ipython3",
   "version": "3.6.8"
  },
  "widgets": {
   "application/vnd.jupyter.widget-state+json": {
    "state": {
     "0103f44c21204c58995ff33fdc20e2cb": {
      "model_module": "@jupyter-widgets/controls",
      "model_module_version": "1.5.0",
      "model_name": "HTMLModel",
      "state": {
       "_dom_classes": [],
       "_model_module": "@jupyter-widgets/controls",
       "_model_module_version": "1.5.0",
       "_model_name": "HTMLModel",
       "_view_count": null,
       "_view_module": "@jupyter-widgets/controls",
       "_view_module_version": "1.5.0",
       "_view_name": "HTMLView",
       "description": "",
       "description_tooltip": null,
       "layout": "IPY_MODEL_29e274d16822487cb78dd24ce31b6270",
       "placeholder": "​",
       "style": "IPY_MODEL_d4a9d58c0a3b40f391d7eaba5568a475",
       "value": " 12568/12568 [02:00&lt;00:00, 104.44it/s]"
      }
     },
     "09cc932e246f4437a3d8f55cc0a0b90e": {
      "model_module": "@jupyter-widgets/controls",
      "model_module_version": "1.5.0",
      "model_name": "IntProgressModel",
      "state": {
       "_dom_classes": [],
       "_model_module": "@jupyter-widgets/controls",
       "_model_module_version": "1.5.0",
       "_model_name": "IntProgressModel",
       "_view_count": null,
       "_view_module": "@jupyter-widgets/controls",
       "_view_module_version": "1.5.0",
       "_view_name": "ProgressView",
       "bar_style": "success",
       "description": "100%",
       "description_tooltip": null,
       "layout": "IPY_MODEL_f0ce1dece7ff41f9965330330e887f62",
       "max": 315,
       "min": 0,
       "orientation": "horizontal",
       "style": "IPY_MODEL_0f21c95757194e08a593a63f580c83fb",
       "value": 315
      }
     },
     "0f21c95757194e08a593a63f580c83fb": {
      "model_module": "@jupyter-widgets/controls",
      "model_module_version": "1.5.0",
      "model_name": "ProgressStyleModel",
      "state": {
       "_model_module": "@jupyter-widgets/controls",
       "_model_module_version": "1.5.0",
       "_model_name": "ProgressStyleModel",
       "_view_count": null,
       "_view_module": "@jupyter-widgets/base",
       "_view_module_version": "1.2.0",
       "_view_name": "StyleView",
       "bar_color": null,
       "description_width": "initial"
      }
     },
     "19a5a6a3549b4f0290e9ceedcea74191": {
      "model_module": "@jupyter-widgets/controls",
      "model_module_version": "1.5.0",
      "model_name": "DescriptionStyleModel",
      "state": {
       "_model_module": "@jupyter-widgets/controls",
       "_model_module_version": "1.5.0",
       "_model_name": "DescriptionStyleModel",
       "_view_count": null,
       "_view_module": "@jupyter-widgets/base",
       "_view_module_version": "1.2.0",
       "_view_name": "StyleView",
       "description_width": ""
      }
     },
     "1b67758cbd45435088b39198158d40a3": {
      "model_module": "@jupyter-widgets/base",
      "model_module_version": "1.2.0",
      "model_name": "LayoutModel",
      "state": {
       "_model_module": "@jupyter-widgets/base",
       "_model_module_version": "1.2.0",
       "_model_name": "LayoutModel",
       "_view_count": null,
       "_view_module": "@jupyter-widgets/base",
       "_view_module_version": "1.2.0",
       "_view_name": "LayoutView",
       "align_content": null,
       "align_items": null,
       "align_self": null,
       "border": null,
       "bottom": null,
       "display": null,
       "flex": null,
       "flex_flow": null,
       "grid_area": null,
       "grid_auto_columns": null,
       "grid_auto_flow": null,
       "grid_auto_rows": null,
       "grid_column": null,
       "grid_gap": null,
       "grid_row": null,
       "grid_template_areas": null,
       "grid_template_columns": null,
       "grid_template_rows": null,
       "height": null,
       "justify_content": null,
       "justify_items": null,
       "left": null,
       "margin": null,
       "max_height": null,
       "max_width": null,
       "min_height": null,
       "min_width": null,
       "object_fit": null,
       "object_position": null,
       "order": null,
       "overflow": null,
       "overflow_x": null,
       "overflow_y": null,
       "padding": null,
       "right": null,
       "top": null,
       "visibility": null,
       "width": null
      }
     },
     "1bb6ee453aa6425599228d79f71615f1": {
      "model_module": "@jupyter-widgets/base",
      "model_module_version": "1.2.0",
      "model_name": "LayoutModel",
      "state": {
       "_model_module": "@jupyter-widgets/base",
       "_model_module_version": "1.2.0",
       "_model_name": "LayoutModel",
       "_view_count": null,
       "_view_module": "@jupyter-widgets/base",
       "_view_module_version": "1.2.0",
       "_view_name": "LayoutView",
       "align_content": null,
       "align_items": null,
       "align_self": null,
       "border": null,
       "bottom": null,
       "display": null,
       "flex": null,
       "flex_flow": null,
       "grid_area": null,
       "grid_auto_columns": null,
       "grid_auto_flow": null,
       "grid_auto_rows": null,
       "grid_column": null,
       "grid_gap": null,
       "grid_row": null,
       "grid_template_areas": null,
       "grid_template_columns": null,
       "grid_template_rows": null,
       "height": null,
       "justify_content": null,
       "justify_items": null,
       "left": null,
       "margin": null,
       "max_height": null,
       "max_width": null,
       "min_height": null,
       "min_width": null,
       "object_fit": null,
       "object_position": null,
       "order": null,
       "overflow": null,
       "overflow_x": null,
       "overflow_y": null,
       "padding": null,
       "right": null,
       "top": null,
       "visibility": null,
       "width": null
      }
     },
     "1c81b1805f764c5d831b25222ee3ccaa": {
      "model_module": "@jupyter-widgets/controls",
      "model_module_version": "1.5.0",
      "model_name": "IntProgressModel",
      "state": {
       "_dom_classes": [],
       "_model_module": "@jupyter-widgets/controls",
       "_model_module_version": "1.5.0",
       "_model_name": "IntProgressModel",
       "_view_count": null,
       "_view_module": "@jupyter-widgets/controls",
       "_view_module_version": "1.5.0",
       "_view_name": "ProgressView",
       "bar_style": "success",
       "description": "100%",
       "description_tooltip": null,
       "layout": "IPY_MODEL_90da3e94c0ea484b8eb26b2d5f9ca563",
       "max": 158,
       "min": 0,
       "orientation": "horizontal",
       "style": "IPY_MODEL_db564fccaf3b4247bca0a383b6e9df85",
       "value": 158
      }
     },
     "29e274d16822487cb78dd24ce31b6270": {
      "model_module": "@jupyter-widgets/base",
      "model_module_version": "1.2.0",
      "model_name": "LayoutModel",
      "state": {
       "_model_module": "@jupyter-widgets/base",
       "_model_module_version": "1.2.0",
       "_model_name": "LayoutModel",
       "_view_count": null,
       "_view_module": "@jupyter-widgets/base",
       "_view_module_version": "1.2.0",
       "_view_name": "LayoutView",
       "align_content": null,
       "align_items": null,
       "align_self": null,
       "border": null,
       "bottom": null,
       "display": null,
       "flex": null,
       "flex_flow": null,
       "grid_area": null,
       "grid_auto_columns": null,
       "grid_auto_flow": null,
       "grid_auto_rows": null,
       "grid_column": null,
       "grid_gap": null,
       "grid_row": null,
       "grid_template_areas": null,
       "grid_template_columns": null,
       "grid_template_rows": null,
       "height": null,
       "justify_content": null,
       "justify_items": null,
       "left": null,
       "margin": null,
       "max_height": null,
       "max_width": null,
       "min_height": null,
       "min_width": null,
       "object_fit": null,
       "object_position": null,
       "order": null,
       "overflow": null,
       "overflow_x": null,
       "overflow_y": null,
       "padding": null,
       "right": null,
       "top": null,
       "visibility": null,
       "width": null
      }
     },
     "34d76def63ce4b99ae7a6beb58bb2e53": {
      "model_module": "@jupyter-widgets/controls",
      "model_module_version": "1.5.0",
      "model_name": "ProgressStyleModel",
      "state": {
       "_model_module": "@jupyter-widgets/controls",
       "_model_module_version": "1.5.0",
       "_model_name": "ProgressStyleModel",
       "_view_count": null,
       "_view_module": "@jupyter-widgets/base",
       "_view_module_version": "1.2.0",
       "_view_name": "StyleView",
       "bar_color": null,
       "description_width": "initial"
      }
     },
     "35d927a0fc064ad9bffa8a48d8a0d35d": {
      "model_module": "@jupyter-widgets/controls",
      "model_module_version": "1.5.0",
      "model_name": "ProgressStyleModel",
      "state": {
       "_model_module": "@jupyter-widgets/controls",
       "_model_module_version": "1.5.0",
       "_model_name": "ProgressStyleModel",
       "_view_count": null,
       "_view_module": "@jupyter-widgets/base",
       "_view_module_version": "1.2.0",
       "_view_name": "StyleView",
       "bar_color": null,
       "description_width": "initial"
      }
     },
     "3b84b450face4ef9b1e2e5e08174199d": {
      "model_module": "@jupyter-widgets/base",
      "model_module_version": "1.2.0",
      "model_name": "LayoutModel",
      "state": {
       "_model_module": "@jupyter-widgets/base",
       "_model_module_version": "1.2.0",
       "_model_name": "LayoutModel",
       "_view_count": null,
       "_view_module": "@jupyter-widgets/base",
       "_view_module_version": "1.2.0",
       "_view_name": "LayoutView",
       "align_content": null,
       "align_items": null,
       "align_self": null,
       "border": null,
       "bottom": null,
       "display": null,
       "flex": null,
       "flex_flow": null,
       "grid_area": null,
       "grid_auto_columns": null,
       "grid_auto_flow": null,
       "grid_auto_rows": null,
       "grid_column": null,
       "grid_gap": null,
       "grid_row": null,
       "grid_template_areas": null,
       "grid_template_columns": null,
       "grid_template_rows": null,
       "height": null,
       "justify_content": null,
       "justify_items": null,
       "left": null,
       "margin": null,
       "max_height": null,
       "max_width": null,
       "min_height": null,
       "min_width": null,
       "object_fit": null,
       "object_position": null,
       "order": null,
       "overflow": null,
       "overflow_x": null,
       "overflow_y": null,
       "padding": null,
       "right": null,
       "top": null,
       "visibility": null,
       "width": null
      }
     },
     "40d70fffcb714f048812c938b38dba51": {
      "model_module": "@jupyter-widgets/controls",
      "model_module_version": "1.5.0",
      "model_name": "IntProgressModel",
      "state": {
       "_dom_classes": [],
       "_model_module": "@jupyter-widgets/controls",
       "_model_module_version": "1.5.0",
       "_model_name": "IntProgressModel",
       "_view_count": null,
       "_view_module": "@jupyter-widgets/controls",
       "_view_module_version": "1.5.0",
       "_view_name": "ProgressView",
       "bar_style": "success",
       "description": "100%",
       "description_tooltip": null,
       "layout": "IPY_MODEL_1bb6ee453aa6425599228d79f71615f1",
       "max": 1258,
       "min": 0,
       "orientation": "horizontal",
       "style": "IPY_MODEL_35d927a0fc064ad9bffa8a48d8a0d35d",
       "value": 1258
      }
     },
     "4b92298139c0452e84843a47e3b021fb": {
      "model_module": "@jupyter-widgets/controls",
      "model_module_version": "1.5.0",
      "model_name": "HTMLModel",
      "state": {
       "_dom_classes": [],
       "_model_module": "@jupyter-widgets/controls",
       "_model_module_version": "1.5.0",
       "_model_name": "HTMLModel",
       "_view_count": null,
       "_view_module": "@jupyter-widgets/controls",
       "_view_module_version": "1.5.0",
       "_view_name": "HTMLView",
       "description": "",
       "description_tooltip": null,
       "layout": "IPY_MODEL_532ef9a85f6b4befa82c4311321b5a2f",
       "placeholder": "​",
       "style": "IPY_MODEL_19a5a6a3549b4f0290e9ceedcea74191",
       "value": " 158/158 [07:12&lt;00:00,  2.74s/it]"
      }
     },
     "532ef9a85f6b4befa82c4311321b5a2f": {
      "model_module": "@jupyter-widgets/base",
      "model_module_version": "1.2.0",
      "model_name": "LayoutModel",
      "state": {
       "_model_module": "@jupyter-widgets/base",
       "_model_module_version": "1.2.0",
       "_model_name": "LayoutModel",
       "_view_count": null,
       "_view_module": "@jupyter-widgets/base",
       "_view_module_version": "1.2.0",
       "_view_name": "LayoutView",
       "align_content": null,
       "align_items": null,
       "align_self": null,
       "border": null,
       "bottom": null,
       "display": null,
       "flex": null,
       "flex_flow": null,
       "grid_area": null,
       "grid_auto_columns": null,
       "grid_auto_flow": null,
       "grid_auto_rows": null,
       "grid_column": null,
       "grid_gap": null,
       "grid_row": null,
       "grid_template_areas": null,
       "grid_template_columns": null,
       "grid_template_rows": null,
       "height": null,
       "justify_content": null,
       "justify_items": null,
       "left": null,
       "margin": null,
       "max_height": null,
       "max_width": null,
       "min_height": null,
       "min_width": null,
       "object_fit": null,
       "object_position": null,
       "order": null,
       "overflow": null,
       "overflow_x": null,
       "overflow_y": null,
       "padding": null,
       "right": null,
       "top": null,
       "visibility": null,
       "width": null
      }
     },
     "5a084077cb7243ada51a8aecb7d132dd": {
      "model_module": "@jupyter-widgets/base",
      "model_module_version": "1.2.0",
      "model_name": "LayoutModel",
      "state": {
       "_model_module": "@jupyter-widgets/base",
       "_model_module_version": "1.2.0",
       "_model_name": "LayoutModel",
       "_view_count": null,
       "_view_module": "@jupyter-widgets/base",
       "_view_module_version": "1.2.0",
       "_view_name": "LayoutView",
       "align_content": null,
       "align_items": null,
       "align_self": null,
       "border": null,
       "bottom": null,
       "display": null,
       "flex": null,
       "flex_flow": null,
       "grid_area": null,
       "grid_auto_columns": null,
       "grid_auto_flow": null,
       "grid_auto_rows": null,
       "grid_column": null,
       "grid_gap": null,
       "grid_row": null,
       "grid_template_areas": null,
       "grid_template_columns": null,
       "grid_template_rows": null,
       "height": null,
       "justify_content": null,
       "justify_items": null,
       "left": null,
       "margin": null,
       "max_height": null,
       "max_width": null,
       "min_height": null,
       "min_width": null,
       "object_fit": null,
       "object_position": null,
       "order": null,
       "overflow": null,
       "overflow_x": null,
       "overflow_y": null,
       "padding": null,
       "right": null,
       "top": null,
       "visibility": null,
       "width": null
      }
     },
     "5a91e3c513074b13b6d945b1d235e9c6": {
      "model_module": "@jupyter-widgets/base",
      "model_module_version": "1.2.0",
      "model_name": "LayoutModel",
      "state": {
       "_model_module": "@jupyter-widgets/base",
       "_model_module_version": "1.2.0",
       "_model_name": "LayoutModel",
       "_view_count": null,
       "_view_module": "@jupyter-widgets/base",
       "_view_module_version": "1.2.0",
       "_view_name": "LayoutView",
       "align_content": null,
       "align_items": null,
       "align_self": null,
       "border": null,
       "bottom": null,
       "display": null,
       "flex": null,
       "flex_flow": null,
       "grid_area": null,
       "grid_auto_columns": null,
       "grid_auto_flow": null,
       "grid_auto_rows": null,
       "grid_column": null,
       "grid_gap": null,
       "grid_row": null,
       "grid_template_areas": null,
       "grid_template_columns": null,
       "grid_template_rows": null,
       "height": null,
       "justify_content": null,
       "justify_items": null,
       "left": null,
       "margin": null,
       "max_height": null,
       "max_width": null,
       "min_height": null,
       "min_width": null,
       "object_fit": null,
       "object_position": null,
       "order": null,
       "overflow": null,
       "overflow_x": null,
       "overflow_y": null,
       "padding": null,
       "right": null,
       "top": null,
       "visibility": null,
       "width": null
      }
     },
     "5e354d28d205487f9ea902dcdbd91be7": {
      "model_module": "@jupyter-widgets/controls",
      "model_module_version": "1.5.0",
      "model_name": "IntProgressModel",
      "state": {
       "_dom_classes": [],
       "_model_module": "@jupyter-widgets/controls",
       "_model_module_version": "1.5.0",
       "_model_name": "IntProgressModel",
       "_view_count": null,
       "_view_module": "@jupyter-widgets/controls",
       "_view_module_version": "1.5.0",
       "_view_name": "ProgressView",
       "bar_style": "success",
       "description": "100%",
       "description_tooltip": null,
       "layout": "IPY_MODEL_5a91e3c513074b13b6d945b1d235e9c6",
       "max": 12568,
       "min": 0,
       "orientation": "horizontal",
       "style": "IPY_MODEL_34d76def63ce4b99ae7a6beb58bb2e53",
       "value": 12568
      }
     },
     "70400c1f20ca403cbeefb92bd6df0350": {
      "model_module": "@jupyter-widgets/base",
      "model_module_version": "1.2.0",
      "model_name": "LayoutModel",
      "state": {
       "_model_module": "@jupyter-widgets/base",
       "_model_module_version": "1.2.0",
       "_model_name": "LayoutModel",
       "_view_count": null,
       "_view_module": "@jupyter-widgets/base",
       "_view_module_version": "1.2.0",
       "_view_name": "LayoutView",
       "align_content": null,
       "align_items": null,
       "align_self": null,
       "border": null,
       "bottom": null,
       "display": null,
       "flex": null,
       "flex_flow": null,
       "grid_area": null,
       "grid_auto_columns": null,
       "grid_auto_flow": null,
       "grid_auto_rows": null,
       "grid_column": null,
       "grid_gap": null,
       "grid_row": null,
       "grid_template_areas": null,
       "grid_template_columns": null,
       "grid_template_rows": null,
       "height": null,
       "justify_content": null,
       "justify_items": null,
       "left": null,
       "margin": null,
       "max_height": null,
       "max_width": null,
       "min_height": null,
       "min_width": null,
       "object_fit": null,
       "object_position": null,
       "order": null,
       "overflow": null,
       "overflow_x": null,
       "overflow_y": null,
       "padding": null,
       "right": null,
       "top": null,
       "visibility": null,
       "width": null
      }
     },
     "7610e408645f4b899aeeb6e3eff07a84": {
      "model_module": "@jupyter-widgets/controls",
      "model_module_version": "1.5.0",
      "model_name": "HBoxModel",
      "state": {
       "_dom_classes": [],
       "_model_module": "@jupyter-widgets/controls",
       "_model_module_version": "1.5.0",
       "_model_name": "HBoxModel",
       "_view_count": null,
       "_view_module": "@jupyter-widgets/controls",
       "_view_module_version": "1.5.0",
       "_view_name": "HBoxView",
       "box_style": "",
       "children": [
        "IPY_MODEL_09cc932e246f4437a3d8f55cc0a0b90e",
        "IPY_MODEL_764bd09a48354407a68e0d4a4538ec4c"
       ],
       "layout": "IPY_MODEL_70400c1f20ca403cbeefb92bd6df0350"
      }
     },
     "764bd09a48354407a68e0d4a4538ec4c": {
      "model_module": "@jupyter-widgets/controls",
      "model_module_version": "1.5.0",
      "model_name": "HTMLModel",
      "state": {
       "_dom_classes": [],
       "_model_module": "@jupyter-widgets/controls",
       "_model_module_version": "1.5.0",
       "_model_name": "HTMLModel",
       "_view_count": null,
       "_view_module": "@jupyter-widgets/controls",
       "_view_module_version": "1.5.0",
       "_view_name": "HTMLView",
       "description": "",
       "description_tooltip": null,
       "layout": "IPY_MODEL_881d155a806c473392e119fdad4f7e38",
       "placeholder": "​",
       "style": "IPY_MODEL_d7990787bc194e73ab464f610088bdfa",
       "value": " 315/315 [03:14&lt;00:00,  1.62it/s]"
      }
     },
     "7d83cb239847474cb571d83b7d01d8d3": {
      "model_module": "@jupyter-widgets/base",
      "model_module_version": "1.2.0",
      "model_name": "LayoutModel",
      "state": {
       "_model_module": "@jupyter-widgets/base",
       "_model_module_version": "1.2.0",
       "_model_name": "LayoutModel",
       "_view_count": null,
       "_view_module": "@jupyter-widgets/base",
       "_view_module_version": "1.2.0",
       "_view_name": "LayoutView",
       "align_content": null,
       "align_items": null,
       "align_self": null,
       "border": null,
       "bottom": null,
       "display": null,
       "flex": null,
       "flex_flow": null,
       "grid_area": null,
       "grid_auto_columns": null,
       "grid_auto_flow": null,
       "grid_auto_rows": null,
       "grid_column": null,
       "grid_gap": null,
       "grid_row": null,
       "grid_template_areas": null,
       "grid_template_columns": null,
       "grid_template_rows": null,
       "height": null,
       "justify_content": null,
       "justify_items": null,
       "left": null,
       "margin": null,
       "max_height": null,
       "max_width": null,
       "min_height": null,
       "min_width": null,
       "object_fit": null,
       "object_position": null,
       "order": null,
       "overflow": null,
       "overflow_x": null,
       "overflow_y": null,
       "padding": null,
       "right": null,
       "top": null,
       "visibility": null,
       "width": null
      }
     },
     "80319d4047ce47d58de2c43aa2644116": {
      "model_module": "@jupyter-widgets/controls",
      "model_module_version": "1.5.0",
      "model_name": "ProgressStyleModel",
      "state": {
       "_model_module": "@jupyter-widgets/controls",
       "_model_module_version": "1.5.0",
       "_model_name": "ProgressStyleModel",
       "_view_count": null,
       "_view_module": "@jupyter-widgets/base",
       "_view_module_version": "1.2.0",
       "_view_name": "StyleView",
       "bar_color": null,
       "description_width": "initial"
      }
     },
     "881d155a806c473392e119fdad4f7e38": {
      "model_module": "@jupyter-widgets/base",
      "model_module_version": "1.2.0",
      "model_name": "LayoutModel",
      "state": {
       "_model_module": "@jupyter-widgets/base",
       "_model_module_version": "1.2.0",
       "_model_name": "LayoutModel",
       "_view_count": null,
       "_view_module": "@jupyter-widgets/base",
       "_view_module_version": "1.2.0",
       "_view_name": "LayoutView",
       "align_content": null,
       "align_items": null,
       "align_self": null,
       "border": null,
       "bottom": null,
       "display": null,
       "flex": null,
       "flex_flow": null,
       "grid_area": null,
       "grid_auto_columns": null,
       "grid_auto_flow": null,
       "grid_auto_rows": null,
       "grid_column": null,
       "grid_gap": null,
       "grid_row": null,
       "grid_template_areas": null,
       "grid_template_columns": null,
       "grid_template_rows": null,
       "height": null,
       "justify_content": null,
       "justify_items": null,
       "left": null,
       "margin": null,
       "max_height": null,
       "max_width": null,
       "min_height": null,
       "min_width": null,
       "object_fit": null,
       "object_position": null,
       "order": null,
       "overflow": null,
       "overflow_x": null,
       "overflow_y": null,
       "padding": null,
       "right": null,
       "top": null,
       "visibility": null,
       "width": null
      }
     },
     "8afa1def59984a90afe40857bccdadc9": {
      "model_module": "@jupyter-widgets/controls",
      "model_module_version": "1.5.0",
      "model_name": "DescriptionStyleModel",
      "state": {
       "_model_module": "@jupyter-widgets/controls",
       "_model_module_version": "1.5.0",
       "_model_name": "DescriptionStyleModel",
       "_view_count": null,
       "_view_module": "@jupyter-widgets/base",
       "_view_module_version": "1.2.0",
       "_view_name": "StyleView",
       "description_width": ""
      }
     },
     "90da3e94c0ea484b8eb26b2d5f9ca563": {
      "model_module": "@jupyter-widgets/base",
      "model_module_version": "1.2.0",
      "model_name": "LayoutModel",
      "state": {
       "_model_module": "@jupyter-widgets/base",
       "_model_module_version": "1.2.0",
       "_model_name": "LayoutModel",
       "_view_count": null,
       "_view_module": "@jupyter-widgets/base",
       "_view_module_version": "1.2.0",
       "_view_name": "LayoutView",
       "align_content": null,
       "align_items": null,
       "align_self": null,
       "border": null,
       "bottom": null,
       "display": null,
       "flex": null,
       "flex_flow": null,
       "grid_area": null,
       "grid_auto_columns": null,
       "grid_auto_flow": null,
       "grid_auto_rows": null,
       "grid_column": null,
       "grid_gap": null,
       "grid_row": null,
       "grid_template_areas": null,
       "grid_template_columns": null,
       "grid_template_rows": null,
       "height": null,
       "justify_content": null,
       "justify_items": null,
       "left": null,
       "margin": null,
       "max_height": null,
       "max_width": null,
       "min_height": null,
       "min_width": null,
       "object_fit": null,
       "object_position": null,
       "order": null,
       "overflow": null,
       "overflow_x": null,
       "overflow_y": null,
       "padding": null,
       "right": null,
       "top": null,
       "visibility": null,
       "width": null
      }
     },
     "97042c74a85743cc84321235976ec0e7": {
      "model_module": "@jupyter-widgets/controls",
      "model_module_version": "1.5.0",
      "model_name": "IntProgressModel",
      "state": {
       "_dom_classes": [],
       "_model_module": "@jupyter-widgets/controls",
       "_model_module_version": "1.5.0",
       "_model_name": "IntProgressModel",
       "_view_count": null,
       "_view_module": "@jupyter-widgets/controls",
       "_view_module_version": "1.5.0",
       "_view_name": "ProgressView",
       "bar_style": "success",
       "description": "100%",
       "description_tooltip": null,
       "layout": "IPY_MODEL_ac49827ae3f944fc99703ffb266f7b50",
       "max": 158,
       "min": 0,
       "orientation": "horizontal",
       "style": "IPY_MODEL_80319d4047ce47d58de2c43aa2644116",
       "value": 158
      }
     },
     "9ff269908ed449989f72656ceae74f90": {
      "model_module": "@jupyter-widgets/controls",
      "model_module_version": "1.5.0",
      "model_name": "HBoxModel",
      "state": {
       "_dom_classes": [],
       "_model_module": "@jupyter-widgets/controls",
       "_model_module_version": "1.5.0",
       "_model_name": "HBoxModel",
       "_view_count": null,
       "_view_module": "@jupyter-widgets/controls",
       "_view_module_version": "1.5.0",
       "_view_name": "HBoxView",
       "box_style": "",
       "children": [
        "IPY_MODEL_1c81b1805f764c5d831b25222ee3ccaa",
        "IPY_MODEL_af9bc1d73e1b493b84da2f5e6369d987"
       ],
       "layout": "IPY_MODEL_c9be7f2244014cf0bc6721118cc205ef"
      }
     },
     "a2923cef919645848c2433a0ab8c801a": {
      "model_module": "@jupyter-widgets/controls",
      "model_module_version": "1.5.0",
      "model_name": "HBoxModel",
      "state": {
       "_dom_classes": [],
       "_model_module": "@jupyter-widgets/controls",
       "_model_module_version": "1.5.0",
       "_model_name": "HBoxModel",
       "_view_count": null,
       "_view_module": "@jupyter-widgets/controls",
       "_view_module_version": "1.5.0",
       "_view_name": "HBoxView",
       "box_style": "",
       "children": [
        "IPY_MODEL_5e354d28d205487f9ea902dcdbd91be7",
        "IPY_MODEL_0103f44c21204c58995ff33fdc20e2cb"
       ],
       "layout": "IPY_MODEL_5a084077cb7243ada51a8aecb7d132dd"
      }
     },
     "ac49827ae3f944fc99703ffb266f7b50": {
      "model_module": "@jupyter-widgets/base",
      "model_module_version": "1.2.0",
      "model_name": "LayoutModel",
      "state": {
       "_model_module": "@jupyter-widgets/base",
       "_model_module_version": "1.2.0",
       "_model_name": "LayoutModel",
       "_view_count": null,
       "_view_module": "@jupyter-widgets/base",
       "_view_module_version": "1.2.0",
       "_view_name": "LayoutView",
       "align_content": null,
       "align_items": null,
       "align_self": null,
       "border": null,
       "bottom": null,
       "display": null,
       "flex": null,
       "flex_flow": null,
       "grid_area": null,
       "grid_auto_columns": null,
       "grid_auto_flow": null,
       "grid_auto_rows": null,
       "grid_column": null,
       "grid_gap": null,
       "grid_row": null,
       "grid_template_areas": null,
       "grid_template_columns": null,
       "grid_template_rows": null,
       "height": null,
       "justify_content": null,
       "justify_items": null,
       "left": null,
       "margin": null,
       "max_height": null,
       "max_width": null,
       "min_height": null,
       "min_width": null,
       "object_fit": null,
       "object_position": null,
       "order": null,
       "overflow": null,
       "overflow_x": null,
       "overflow_y": null,
       "padding": null,
       "right": null,
       "top": null,
       "visibility": null,
       "width": null
      }
     },
     "af9bc1d73e1b493b84da2f5e6369d987": {
      "model_module": "@jupyter-widgets/controls",
      "model_module_version": "1.5.0",
      "model_name": "HTMLModel",
      "state": {
       "_dom_classes": [],
       "_model_module": "@jupyter-widgets/controls",
       "_model_module_version": "1.5.0",
       "_model_name": "HTMLModel",
       "_view_count": null,
       "_view_module": "@jupyter-widgets/controls",
       "_view_module_version": "1.5.0",
       "_view_name": "HTMLView",
       "description": "",
       "description_tooltip": null,
       "layout": "IPY_MODEL_3b84b450face4ef9b1e2e5e08174199d",
       "placeholder": "​",
       "style": "IPY_MODEL_d046a52de844450bb3a6903982a3fcf6",
       "value": " 158/158 [03:35&lt;00:00,  1.37s/it]"
      }
     },
     "c9be7f2244014cf0bc6721118cc205ef": {
      "model_module": "@jupyter-widgets/base",
      "model_module_version": "1.2.0",
      "model_name": "LayoutModel",
      "state": {
       "_model_module": "@jupyter-widgets/base",
       "_model_module_version": "1.2.0",
       "_model_name": "LayoutModel",
       "_view_count": null,
       "_view_module": "@jupyter-widgets/base",
       "_view_module_version": "1.2.0",
       "_view_name": "LayoutView",
       "align_content": null,
       "align_items": null,
       "align_self": null,
       "border": null,
       "bottom": null,
       "display": null,
       "flex": null,
       "flex_flow": null,
       "grid_area": null,
       "grid_auto_columns": null,
       "grid_auto_flow": null,
       "grid_auto_rows": null,
       "grid_column": null,
       "grid_gap": null,
       "grid_row": null,
       "grid_template_areas": null,
       "grid_template_columns": null,
       "grid_template_rows": null,
       "height": null,
       "justify_content": null,
       "justify_items": null,
       "left": null,
       "margin": null,
       "max_height": null,
       "max_width": null,
       "min_height": null,
       "min_width": null,
       "object_fit": null,
       "object_position": null,
       "order": null,
       "overflow": null,
       "overflow_x": null,
       "overflow_y": null,
       "padding": null,
       "right": null,
       "top": null,
       "visibility": null,
       "width": null
      }
     },
     "cd1705a074e945d99545af303d3ec8a3": {
      "model_module": "@jupyter-widgets/controls",
      "model_module_version": "1.5.0",
      "model_name": "HBoxModel",
      "state": {
       "_dom_classes": [],
       "_model_module": "@jupyter-widgets/controls",
       "_model_module_version": "1.5.0",
       "_model_name": "HBoxModel",
       "_view_count": null,
       "_view_module": "@jupyter-widgets/controls",
       "_view_module_version": "1.5.0",
       "_view_name": "HBoxView",
       "box_style": "",
       "children": [
        "IPY_MODEL_40d70fffcb714f048812c938b38dba51",
        "IPY_MODEL_e644087c03ab4c22915c148fc294ace4"
       ],
       "layout": "IPY_MODEL_7d83cb239847474cb571d83b7d01d8d3"
      }
     },
     "d046a52de844450bb3a6903982a3fcf6": {
      "model_module": "@jupyter-widgets/controls",
      "model_module_version": "1.5.0",
      "model_name": "DescriptionStyleModel",
      "state": {
       "_model_module": "@jupyter-widgets/controls",
       "_model_module_version": "1.5.0",
       "_model_name": "DescriptionStyleModel",
       "_view_count": null,
       "_view_module": "@jupyter-widgets/base",
       "_view_module_version": "1.2.0",
       "_view_name": "StyleView",
       "description_width": ""
      }
     },
     "d3fc34466bb840d7b0b7ed3ce0cf0514": {
      "model_module": "@jupyter-widgets/base",
      "model_module_version": "1.2.0",
      "model_name": "LayoutModel",
      "state": {
       "_model_module": "@jupyter-widgets/base",
       "_model_module_version": "1.2.0",
       "_model_name": "LayoutModel",
       "_view_count": null,
       "_view_module": "@jupyter-widgets/base",
       "_view_module_version": "1.2.0",
       "_view_name": "LayoutView",
       "align_content": null,
       "align_items": null,
       "align_self": null,
       "border": null,
       "bottom": null,
       "display": null,
       "flex": null,
       "flex_flow": null,
       "grid_area": null,
       "grid_auto_columns": null,
       "grid_auto_flow": null,
       "grid_auto_rows": null,
       "grid_column": null,
       "grid_gap": null,
       "grid_row": null,
       "grid_template_areas": null,
       "grid_template_columns": null,
       "grid_template_rows": null,
       "height": null,
       "justify_content": null,
       "justify_items": null,
       "left": null,
       "margin": null,
       "max_height": null,
       "max_width": null,
       "min_height": null,
       "min_width": null,
       "object_fit": null,
       "object_position": null,
       "order": null,
       "overflow": null,
       "overflow_x": null,
       "overflow_y": null,
       "padding": null,
       "right": null,
       "top": null,
       "visibility": null,
       "width": null
      }
     },
     "d4a9d58c0a3b40f391d7eaba5568a475": {
      "model_module": "@jupyter-widgets/controls",
      "model_module_version": "1.5.0",
      "model_name": "DescriptionStyleModel",
      "state": {
       "_model_module": "@jupyter-widgets/controls",
       "_model_module_version": "1.5.0",
       "_model_name": "DescriptionStyleModel",
       "_view_count": null,
       "_view_module": "@jupyter-widgets/base",
       "_view_module_version": "1.2.0",
       "_view_name": "StyleView",
       "description_width": ""
      }
     },
     "d7990787bc194e73ab464f610088bdfa": {
      "model_module": "@jupyter-widgets/controls",
      "model_module_version": "1.5.0",
      "model_name": "DescriptionStyleModel",
      "state": {
       "_model_module": "@jupyter-widgets/controls",
       "_model_module_version": "1.5.0",
       "_model_name": "DescriptionStyleModel",
       "_view_count": null,
       "_view_module": "@jupyter-widgets/base",
       "_view_module_version": "1.2.0",
       "_view_name": "StyleView",
       "description_width": ""
      }
     },
     "d807e8146dfe4f91a97f3298ba9a6259": {
      "model_module": "@jupyter-widgets/controls",
      "model_module_version": "1.5.0",
      "model_name": "HBoxModel",
      "state": {
       "_dom_classes": [],
       "_model_module": "@jupyter-widgets/controls",
       "_model_module_version": "1.5.0",
       "_model_name": "HBoxModel",
       "_view_count": null,
       "_view_module": "@jupyter-widgets/controls",
       "_view_module_version": "1.5.0",
       "_view_name": "HBoxView",
       "box_style": "",
       "children": [
        "IPY_MODEL_97042c74a85743cc84321235976ec0e7",
        "IPY_MODEL_4b92298139c0452e84843a47e3b021fb"
       ],
       "layout": "IPY_MODEL_1b67758cbd45435088b39198158d40a3"
      }
     },
     "db564fccaf3b4247bca0a383b6e9df85": {
      "model_module": "@jupyter-widgets/controls",
      "model_module_version": "1.5.0",
      "model_name": "ProgressStyleModel",
      "state": {
       "_model_module": "@jupyter-widgets/controls",
       "_model_module_version": "1.5.0",
       "_model_name": "ProgressStyleModel",
       "_view_count": null,
       "_view_module": "@jupyter-widgets/base",
       "_view_module_version": "1.2.0",
       "_view_name": "StyleView",
       "bar_color": null,
       "description_width": "initial"
      }
     },
     "e644087c03ab4c22915c148fc294ace4": {
      "model_module": "@jupyter-widgets/controls",
      "model_module_version": "1.5.0",
      "model_name": "HTMLModel",
      "state": {
       "_dom_classes": [],
       "_model_module": "@jupyter-widgets/controls",
       "_model_module_version": "1.5.0",
       "_model_name": "HTMLModel",
       "_view_count": null,
       "_view_module": "@jupyter-widgets/controls",
       "_view_module_version": "1.5.0",
       "_view_name": "HTMLView",
       "description": "",
       "description_tooltip": null,
       "layout": "IPY_MODEL_d3fc34466bb840d7b0b7ed3ce0cf0514",
       "placeholder": "​",
       "style": "IPY_MODEL_8afa1def59984a90afe40857bccdadc9",
       "value": " 1258/1258 [00:54&lt;00:00, 23.04it/s]"
      }
     },
     "f0ce1dece7ff41f9965330330e887f62": {
      "model_module": "@jupyter-widgets/base",
      "model_module_version": "1.2.0",
      "model_name": "LayoutModel",
      "state": {
       "_model_module": "@jupyter-widgets/base",
       "_model_module_version": "1.2.0",
       "_model_name": "LayoutModel",
       "_view_count": null,
       "_view_module": "@jupyter-widgets/base",
       "_view_module_version": "1.2.0",
       "_view_name": "LayoutView",
       "align_content": null,
       "align_items": null,
       "align_self": null,
       "border": null,
       "bottom": null,
       "display": null,
       "flex": null,
       "flex_flow": null,
       "grid_area": null,
       "grid_auto_columns": null,
       "grid_auto_flow": null,
       "grid_auto_rows": null,
       "grid_column": null,
       "grid_gap": null,
       "grid_row": null,
       "grid_template_areas": null,
       "grid_template_columns": null,
       "grid_template_rows": null,
       "height": null,
       "justify_content": null,
       "justify_items": null,
       "left": null,
       "margin": null,
       "max_height": null,
       "max_width": null,
       "min_height": null,
       "min_width": null,
       "object_fit": null,
       "object_position": null,
       "order": null,
       "overflow": null,
       "overflow_x": null,
       "overflow_y": null,
       "padding": null,
       "right": null,
       "top": null,
       "visibility": null,
       "width": null
      }
     }
    },
    "version_major": 2,
    "version_minor": 0
   }
  }
 },
 "nbformat": 4,
 "nbformat_minor": 1
}
